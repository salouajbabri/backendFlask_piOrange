{
  "cells": [
    {
      "cell_type": "code",
      "execution_count": null,
      "metadata": {
        "colab": {
          "base_uri": "https://localhost:8080/"
        },
        "id": "YpUgIy3ljgRv",
        "outputId": "affb6fca-48be-4f5a-d651-3f5e692e4582"
      },
      "outputs": [
        {
          "name": "stderr",
          "output_type": "stream",
          "text": [
            "<ipython-input-3-3959f887118d>:22: FutureWarning: Downcasting behavior in `replace` is deprecated and will be removed in a future version. To retain the old behavior, explicitly call `result.infer_objects(copy=False)`. To opt-in to the future behavior, set `pd.set_option('future.no_silent_downcasting', True)`\n",
            "  data[binary_columns] = data[binary_columns].replace({'OUI': 1, 'NON': 0})\n",
            "<ipython-input-3-3959f887118d>:25: FutureWarning: Downcasting behavior in `replace` is deprecated and will be removed in a future version. To retain the old behavior, explicitly call `result.infer_objects(copy=False)`. To opt-in to the future behavior, set `pd.set_option('future.no_silent_downcasting', True)`\n",
            "  data['Type_Offre'] = data['Type_Offre'].replace({'Prépayée': 0, 'Postpayée': 1})\n"
          ]
        }
      ],
      "source": [
        "import pandas as pd\n",
        "from sklearn.model_selection import train_test_split\n",
        "from sklearn.ensemble import RandomForestClassifier, RandomForestRegressor\n",
        "from sklearn.metrics import accuracy_score, mean_absolute_error\n",
        "from flask import Flask, request, jsonify\n",
        "import numpy as np\n",
        "import joblib\n",
        "\n",
        "app = Flask(__name__)\n",
        "\n",
        "# Step 1: Load and prepare data\n",
        "def load_data():\n",
        "    file_path = './29.11.2024 BDD Client (1).xlsx'\n",
        "    data = pd.read_excel(file_path)\n",
        "\n",
        "    # Rename columns properly\n",
        "    data.columns = ['Numero', 'Nom', 'Type_Offre', 'MMR', 'Voix_minutes', 'Data_MO',\n",
        "                    'Youtube', 'Navigation', 'Gaming', 'Musique', 'Reseaux_sociaux', 'Films', 'Sport']\n",
        "\n",
        "    # Convert binary columns (OUI/NON) to 1/0\n",
        "    binary_columns = ['Youtube', 'Navigation', 'Gaming', 'Musique', 'Reseaux_sociaux', 'Films', 'Sport']\n",
        "    data[binary_columns] = data[binary_columns].replace({'OUI': 1, 'NON': 0})\n",
        "\n",
        "    # Map Type_Offre to numeric\n",
        "    data['Type_Offre'] = data['Type_Offre'].replace({'Prépayée': 0, 'Postpayée': 1})\n",
        "    data['MMR'] = pd.to_numeric(data['MMR'], errors='coerce')\n",
        "    return data\n",
        "\n",
        "# Step 2: Train models and save them\n",
        "def train_and_save_models(data):\n",
        "    X = data[['Voix_minutes', 'Data_MO', 'Youtube', 'Navigation', 'Gaming', 'Musique', 'Reseaux_sociaux']]\n",
        "    y_entertainment = data[['Sport', 'Films']]\n",
        "    y_offer = data['Type_Offre']\n",
        "    y_mmr = data['MMR']\n",
        "    y_preferences = data[['Youtube', 'Navigation', 'Gaming', 'Musique', 'Reseaux_sociaux', 'Films', 'Sport']]\n",
        "\n",
        "    X_train, X_test, y_ent_train, y_ent_test = train_test_split(X, y_entertainment, test_size=0.2, random_state=42)\n",
        "    X_train, X_test, y_offer_train, y_offer_test = train_test_split(X, y_offer, test_size=0.2, random_state=42)\n",
        "    X_train, X_test, y_mmr_train, y_mmr_test = train_test_split(X, y_mmr, test_size=0.2, random_state=42)\n",
        "    X_train, X_test, y_pref_train, y_pref_test = train_test_split(X, y_preferences, test_size=0.2, random_state=42)\n",
        "\n",
        "    ent_model = RandomForestClassifier().fit(X_train, y_ent_train)\n",
        "    offer_model = RandomForestClassifier().fit(X_train, y_offer_train)\n",
        "    mmr_model = RandomForestRegressor().fit(X_train, y_mmr_train)\n",
        "    pref_model = RandomForestClassifier().fit(X_train, y_pref_train)\n",
        "\n",
        "    # Save models\n",
        "    joblib.dump(ent_model, 'ent_model.pkl')\n",
        "    joblib.dump(offer_model, 'offer_model.pkl')\n",
        "    joblib.dump(mmr_model, 'mmr_model.pkl')\n",
        "    joblib.dump(pref_model, 'pref_model.pkl')\n",
        "    joblib.dump(X_train.columns, 'model_features.pkl')\n",
        "\n",
        "data = load_data()\n",
        "train_and_save_models(data)"
      ]
    },
    {
      "cell_type": "code",
      "execution_count": null,
      "metadata": {
        "colab": {
          "base_uri": "https://localhost:8080/"
        },
        "id": "eTk8YikkoXP6",
        "outputId": "28506376-70f9-4d9e-d082-2730a98989c3"
      },
      "outputs": [
        {
          "name": "stdout",
          "output_type": "stream",
          "text": [
            "1.5.2\n"
          ]
        }
      ],
      "source": [
        "import sklearn\n",
        "print(sklearn.__version__)\n"
      ]
    }
  ],
  "metadata": {
    "colab": {
      "provenance": []
    },
    "kernelspec": {
      "display_name": "Python 3",
      "name": "python3"
    },
    "language_info": {
      "name": "python"
    }
  },
  "nbformat": 4,
  "nbformat_minor": 0
}
